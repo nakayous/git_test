{
  "nbformat": 4,
  "nbformat_minor": 0,
  "metadata": {
    "colab": {
      "name": "practice.ipynb",
      "provenance": [],
      "authorship_tag": "ABX9TyPqDxxhvfLj220wWv7E9Z/k",
      "include_colab_link": true
    },
    "kernelspec": {
      "display_name": "Python 3",
      "name": "python3"
    },
    "language_info": {
      "name": "python"
    }
  },
  "cells": [
    {
      "cell_type": "markdown",
      "metadata": {
        "id": "view-in-github",
        "colab_type": "text"
      },
      "source": [
        "<a href=\"https://colab.research.google.com/github/nakayous/git_test/blob/main/practice.ipynb\" target=\"_parent\"><img src=\"https://colab.research.google.com/assets/colab-badge.svg\" alt=\"Open In Colab\"/></a>"
      ]
    },
    {
      "cell_type": "code",
      "metadata": {
        "colab": {
          "background_save": true,
          "base_uri": "https://localhost:8080/"
        },
        "id": "3QrInnr9x6DZ",
        "outputId": "5dc85e9b-13d7-42f9-b0b1-c5266b0aadef"
      },
      "source": [
        "print('三つの整数の最大値を求めます')\n",
        "a=int(input('整数のaの値：'))\n",
        "b=int(input('整数のbの値：'))\n",
        "c=int(input('整数のaの値：'))\n",
        "\n",
        "maximum=a\n",
        "if b>maximum:maximum=b\n",
        "if c>maximum:maximum=c\n",
        "\n",
        "print(f'最大値は{maximum}です。')"
      ],
      "execution_count": null,
      "outputs": [
        {
          "name": "stdout",
          "output_type": "stream",
          "text": [
            "三つの整数の最大値を求めます\n"
          ]
        }
      ]
    },
    {
      "cell_type": "code",
      "metadata": {
        "id": "l0228IfKGtnM"
      },
      "source": [
        "name,age='浅木',24"
      ],
      "execution_count": null,
      "outputs": []
    },
    {
      "cell_type": "code",
      "metadata": {
        "colab": {
          "base_uri": "https://localhost:8080/"
        },
        "id": "-8KD5k0e3sdf",
        "outputId": "31b3121b-8393-4625-d48d-30f790fb8f37"
      },
      "source": [
        "age=24\n",
        "print('浅木先生の今年の年齢は・・・')\n",
        "print(age)\n",
        "\n",
        "age=age+1\n",
        "print('来年は・・・')\n",
        "print(age)\n",
        "\n",
        "age=age+1\n",
        "print('再来年は・・・')\n",
        "print(age)"
      ],
      "execution_count": 1,
      "outputs": [
        {
          "output_type": "stream",
          "name": "stdout",
          "text": [
            "浅木先生の今年の年齢は・・・\n",
            "24\n",
            "来年は・・・\n",
            "25\n",
            "再来年は・・・\n",
            "26\n"
          ]
        }
      ]
    },
    {
      "cell_type": "code",
      "metadata": {
        "colab": {
          "base_uri": "https://localhost:8080/"
        },
        "id": "t6wJp0GZ5VuE",
        "outputId": "6a817331-3a36-4bab-8f48-6f468e856d78"
      },
      "source": [
        "age=24\n",
        "age+=1\n",
        "print('来年は・・・')\n",
        "print(age)\n",
        "age+=1\n",
        "print('再来年は・・・')\n",
        "print(age)"
      ],
      "execution_count": 5,
      "outputs": [
        {
          "output_type": "stream",
          "name": "stdout",
          "text": [
            "来年は・・・\n",
            "25\n",
            "再来年は・・・\n",
            "26\n"
          ]
        }
      ]
    },
    {
      "cell_type": "code",
      "metadata": {
        "colab": {
          "base_uri": "https://localhost:8080/"
        },
        "id": "Tv0KIZ0hCO9_",
        "outputId": "652c6583-bf8f-4d7c-d022-b97545cd1146"
      },
      "source": [
        "name=input('あなたの名前を入力してください>>')\n",
        "print('おお'+name+'よ、そなたがくるのを待っておったぞ！')"
      ],
      "execution_count": 6,
      "outputs": [
        {
          "output_type": "stream",
          "name": "stdout",
          "text": [
            "あなたの名前を入力してください>>ようすけ\n",
            "おおようすけよ、そなたがくるのを待っておったぞ！\n"
          ]
        }
      ]
    },
    {
      "cell_type": "code",
      "metadata": {
        "colab": {
          "base_uri": "https://localhost:8080/"
        },
        "id": "GiJnQrQOEczI",
        "outputId": "28f00b15-46a4-446b-8886-f3280b4d838e"
      },
      "source": [
        "x=10\n",
        "print(type(x))"
      ],
      "execution_count": 7,
      "outputs": [
        {
          "output_type": "stream",
          "name": "stdout",
          "text": [
            "<class 'int'>\n"
          ]
        }
      ]
    },
    {
      "cell_type": "code",
      "metadata": {
        "colab": {
          "base_uri": "https://localhost:8080/"
        },
        "id": "238470A2Fk-r",
        "outputId": "10cf1080-0c68-40b4-a98c-8677980a4d31"
      },
      "source": [
        "x=3.14\n",
        "y=int(x)\n",
        "print(y)\n",
        "print(type(y))\n",
        "\n",
        "z=str(x)\n",
        "print(z)\n",
        "print(type(z))\n",
        "print(z*2)"
      ],
      "execution_count": 9,
      "outputs": [
        {
          "output_type": "stream",
          "name": "stdout",
          "text": [
            "3\n",
            "<class 'int'>\n",
            "3.14\n",
            "<class 'str'>\n",
            "3.143.14\n"
          ]
        }
      ]
    },
    {
      "cell_type": "code",
      "metadata": {
        "id": "w9Hl5TKBNsgw"
      },
      "source": [
        ""
      ],
      "execution_count": null,
      "outputs": []
    }
  ]
}